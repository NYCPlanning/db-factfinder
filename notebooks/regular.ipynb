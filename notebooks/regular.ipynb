{
 "cells": [
  {
   "cell_type": "code",
   "execution_count": 10,
   "source": [
    "#Initialize\n",
    "from factfinder.calculate import Calculate\n",
    "from dotenv import load_dotenv\n",
    "import os\n",
    "import numpy as np\n",
    "import pandas as pd\n",
    "import math\n",
    "\n",
    "# pd.options.display.float_format = \"{:,.18f}\".format\n",
    "\n",
    "try:\n",
    "    env_path = \"../.env\"\n",
    "    load_dotenv(dotenv_path=env_path)\n",
    "except:\n",
    "    print(\".env file is missing ...\")\n",
    "\n",
    "calculate = Calculate(api_key=os.environ[\"API_KEY\"], year=2019, source=\"acs\", geography='2010_to_2020')"
   ],
   "outputs": [],
   "metadata": {}
  },
  {
   "cell_type": "code",
   "execution_count": 11,
   "source": [
    "##INPUTS -- change here\n",
    "pff_variable = 'lgchilep1'\n",
    "geotype = 'CT20'\n",
    "census_geoid_list = ['36085029105']"
   ],
   "outputs": [],
   "metadata": {}
  },
  {
   "cell_type": "code",
   "execution_count": 12,
   "source": [
    "v = calculate.meta.create_variable(pff_variable)"
   ],
   "outputs": [],
   "metadata": {}
  },
  {
   "cell_type": "code",
   "execution_count": 13,
   "source": [
    "df_em = calculate.calculate_e_m(pff_variable, geotype)\n",
    "df_em.loc[df_em.census_geoid.isin(census_geoid_list),:]"
   ],
   "outputs": [
    {
     "output_type": "execute_result",
     "data": {
      "text/plain": [
       "     census_geoid pff_variable geotype          e         m\n",
       "2319  36085029105    lgchilep1    CT20  14.580814  33.06895"
      ],
      "text/html": [
       "<div>\n",
       "<style scoped>\n",
       "    .dataframe tbody tr th:only-of-type {\n",
       "        vertical-align: middle;\n",
       "    }\n",
       "\n",
       "    .dataframe tbody tr th {\n",
       "        vertical-align: top;\n",
       "    }\n",
       "\n",
       "    .dataframe thead th {\n",
       "        text-align: right;\n",
       "    }\n",
       "</style>\n",
       "<table border=\"1\" class=\"dataframe\">\n",
       "  <thead>\n",
       "    <tr style=\"text-align: right;\">\n",
       "      <th></th>\n",
       "      <th>census_geoid</th>\n",
       "      <th>pff_variable</th>\n",
       "      <th>geotype</th>\n",
       "      <th>e</th>\n",
       "      <th>m</th>\n",
       "    </tr>\n",
       "  </thead>\n",
       "  <tbody>\n",
       "    <tr>\n",
       "      <th>2319</th>\n",
       "      <td>36085029105</td>\n",
       "      <td>lgchilep1</td>\n",
       "      <td>CT20</td>\n",
       "      <td>14.580814</td>\n",
       "      <td>33.06895</td>\n",
       "    </tr>\n",
       "  </tbody>\n",
       "</table>\n",
       "</div>"
      ]
     },
     "metadata": {},
     "execution_count": 13
    }
   ],
   "metadata": {}
  },
  {
   "cell_type": "code",
   "execution_count": 14,
   "source": [
    "df_base = calculate.calculate_e_m(v.base_variable, geotype)\n",
    "df_base.loc[df_base.census_geoid.isin(census_geoid_list),:]"
   ],
   "outputs": [
    {
     "output_type": "execute_result",
     "data": {
      "text/plain": [
       "     census_geoid pff_variable geotype          e          m\n",
       "2319  36085029105       lgchi1    CT20  21.871222  49.603424"
      ],
      "text/html": [
       "<div>\n",
       "<style scoped>\n",
       "    .dataframe tbody tr th:only-of-type {\n",
       "        vertical-align: middle;\n",
       "    }\n",
       "\n",
       "    .dataframe tbody tr th {\n",
       "        vertical-align: top;\n",
       "    }\n",
       "\n",
       "    .dataframe thead th {\n",
       "        text-align: right;\n",
       "    }\n",
       "</style>\n",
       "<table border=\"1\" class=\"dataframe\">\n",
       "  <thead>\n",
       "    <tr style=\"text-align: right;\">\n",
       "      <th></th>\n",
       "      <th>census_geoid</th>\n",
       "      <th>pff_variable</th>\n",
       "      <th>geotype</th>\n",
       "      <th>e</th>\n",
       "      <th>m</th>\n",
       "    </tr>\n",
       "  </thead>\n",
       "  <tbody>\n",
       "    <tr>\n",
       "      <th>2319</th>\n",
       "      <td>36085029105</td>\n",
       "      <td>lgchi1</td>\n",
       "      <td>CT20</td>\n",
       "      <td>21.871222</td>\n",
       "      <td>49.603424</td>\n",
       "    </tr>\n",
       "  </tbody>\n",
       "</table>\n",
       "</div>"
      ]
     },
     "metadata": {},
     "execution_count": 14
    }
   ],
   "metadata": {}
  },
  {
   "cell_type": "code",
   "execution_count": 16,
   "source": [
    "(33.06895 ** 2 + (14.580814 * 49.603424 / 21.871222) ** 2)"
   ],
   "outputs": [
    {
     "output_type": "execute_result",
     "data": {
      "text/plain": [
       "2187.1107641135895"
      ]
     },
     "metadata": {},
     "execution_count": 16
    }
   ],
   "metadata": {}
  },
  {
   "cell_type": "code",
   "execution_count": 15,
   "source": [
    "math.sqrt(33.06895 ** 2 + (14.580814 * 49.603424 / 21.871222) ** 2) / 21.871222 * 100"
   ],
   "outputs": [
    {
     "output_type": "execute_result",
     "data": {
      "text/plain": [
       "213.8269002202929"
      ]
     },
     "metadata": {},
     "execution_count": 15
    }
   ],
   "metadata": {}
  },
  {
   "cell_type": "code",
   "execution_count": 3,
   "source": [
    "# See all digits of ratio\n",
    "ratio = calculate.geo.ratio\n",
    "ratio.loc[ratio.geoid_ct2020.isin(census_geoid_list), :]\n"
   ],
   "outputs": [
    {
     "output_type": "execute_result",
     "data": {
      "text/plain": [
       "    geoid_ct2010 geoid_ct2020     ratio\n",
       "877  36047054300  36047054300  0.021407"
      ],
      "text/html": [
       "<div>\n",
       "<style scoped>\n",
       "    .dataframe tbody tr th:only-of-type {\n",
       "        vertical-align: middle;\n",
       "    }\n",
       "\n",
       "    .dataframe tbody tr th {\n",
       "        vertical-align: top;\n",
       "    }\n",
       "\n",
       "    .dataframe thead th {\n",
       "        text-align: right;\n",
       "    }\n",
       "</style>\n",
       "<table border=\"1\" class=\"dataframe\">\n",
       "  <thead>\n",
       "    <tr style=\"text-align: right;\">\n",
       "      <th></th>\n",
       "      <th>geoid_ct2010</th>\n",
       "      <th>geoid_ct2020</th>\n",
       "      <th>ratio</th>\n",
       "    </tr>\n",
       "  </thead>\n",
       "  <tbody>\n",
       "    <tr>\n",
       "      <th>877</th>\n",
       "      <td>36047054300</td>\n",
       "      <td>36047054300</td>\n",
       "      <td>0.021407</td>\n",
       "    </tr>\n",
       "  </tbody>\n",
       "</table>\n",
       "</div>"
      ]
     },
     "metadata": {},
     "execution_count": 3
    }
   ],
   "metadata": {}
  }
 ],
 "metadata": {
  "interpreter": {
   "hash": "75371cd3c5ecd442c3beab879b92f620aa5f133f8c54bee4eee1a26c01085919"
  },
  "kernelspec": {
   "name": "python3",
   "display_name": "Python 3.9.4 64-bit ('pff-factfinder-Gy5E4KFG-py3.9': poetry)"
  },
  "language_info": {
   "codemirror_mode": {
    "name": "ipython",
    "version": 3
   },
   "file_extension": ".py",
   "mimetype": "text/x-python",
   "name": "python",
   "nbconvert_exporter": "python",
   "pygments_lexer": "ipython3",
   "version": "3.9.4"
  },
  "orig_nbformat": 4
 },
 "nbformat": 4,
 "nbformat_minor": 2
}