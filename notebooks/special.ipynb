{
 "cells": [
  {
   "cell_type": "code",
   "execution_count": 13,
   "source": [
    "#Initialize\n",
    "from factfinder.calculate import Calculate\n",
    "from factfinder.special import pivot\n",
    "from dotenv import load_dotenv\n",
    "import os\n",
    "import numpy as np\n",
    "import pandas as pd\n",
    "\n",
    "# pd.options.display.float_format = \"{:,.18f}\".format\n",
    "\n",
    "try:\n",
    "    env_path = \"../.env\"\n",
    "    load_dotenv(dotenv_path=env_path)\n",
    "except:\n",
    "    print(\".env file is missing ...\")\n",
    "\n",
    "calculate = Calculate(api_key=os.environ[\"API_KEY\"], year=2019, source=\"acs\", geography='2010_to_2020')"
   ],
   "outputs": [],
   "metadata": {}
  },
  {
   "cell_type": "code",
   "execution_count": 2,
   "source": [
    "##INPUTS -- change here\n",
    "pff_variable = 'mntrvtm'\n",
    "geotype = 'CT20'\n",
    "census_geoid_list = ['36047054300']"
   ],
   "outputs": [],
   "metadata": {}
  },
  {
   "cell_type": "code",
   "execution_count": 3,
   "source": [
    "# See all digits of ratio\n",
    "ratio = calculate.geo.ratio\n",
    "ratio.loc[ratio.geoid_ct2020.isin(census_geoid_list), :]\n"
   ],
   "outputs": [
    {
     "output_type": "execute_result",
     "data": {
      "text/plain": [
       "    geoid_ct2010 geoid_ct2020     ratio\n",
       "877  36047054300  36047054300  0.021407"
      ],
      "text/html": [
       "<div>\n",
       "<style scoped>\n",
       "    .dataframe tbody tr th:only-of-type {\n",
       "        vertical-align: middle;\n",
       "    }\n",
       "\n",
       "    .dataframe tbody tr th {\n",
       "        vertical-align: top;\n",
       "    }\n",
       "\n",
       "    .dataframe thead th {\n",
       "        text-align: right;\n",
       "    }\n",
       "</style>\n",
       "<table border=\"1\" class=\"dataframe\">\n",
       "  <thead>\n",
       "    <tr style=\"text-align: right;\">\n",
       "      <th></th>\n",
       "      <th>geoid_ct2010</th>\n",
       "      <th>geoid_ct2020</th>\n",
       "      <th>ratio</th>\n",
       "    </tr>\n",
       "  </thead>\n",
       "  <tbody>\n",
       "    <tr>\n",
       "      <th>877</th>\n",
       "      <td>36047054300</td>\n",
       "      <td>36047054300</td>\n",
       "      <td>0.021407</td>\n",
       "    </tr>\n",
       "  </tbody>\n",
       "</table>\n",
       "</div>"
      ]
     },
     "metadata": {},
     "execution_count": 3
    }
   ],
   "metadata": {}
  },
  {
   "cell_type": "code",
   "execution_count": 5,
   "source": [
    "# Get special base variables\n",
    "special_base_vars = calculate.meta.get_special_base_variables(pff_variable)\n"
   ],
   "outputs": [
    {
     "output_type": "execute_result",
     "data": {
      "text/plain": [
       "['agttm', 'wrkr16pl', 'cw_wrkdhm', 'wrkrnothm']"
      ]
     },
     "metadata": {},
     "execution_count": 5
    }
   ],
   "metadata": {}
  },
  {
   "cell_type": "code",
   "execution_count": 6,
   "source": [
    "# Perfom e and m calculation by calling calculate method\n",
    "df = calculate.calculate_e_m_special(pff_variable, geotype)\n",
    "df.head()\n"
   ],
   "outputs": [
    {
     "output_type": "execute_result",
     "data": {
      "text/plain": [
       "  census_geoid pff_variable geotype          e          m\n",
       "0  36005000100      mntrvtm    CT20        NaN        NaN\n",
       "1  36005000200      mntrvtm    CT20  43.394616  12.466391\n",
       "2  36005000400      mntrvtm    CT20  52.868440   8.908892\n",
       "3  36005001600      mntrvtm    CT20  47.987897   8.956524\n",
       "4  36005001901      mntrvtm    CT20  42.078775  19.419041"
      ],
      "text/html": [
       "<div>\n",
       "<style scoped>\n",
       "    .dataframe tbody tr th:only-of-type {\n",
       "        vertical-align: middle;\n",
       "    }\n",
       "\n",
       "    .dataframe tbody tr th {\n",
       "        vertical-align: top;\n",
       "    }\n",
       "\n",
       "    .dataframe thead th {\n",
       "        text-align: right;\n",
       "    }\n",
       "</style>\n",
       "<table border=\"1\" class=\"dataframe\">\n",
       "  <thead>\n",
       "    <tr style=\"text-align: right;\">\n",
       "      <th></th>\n",
       "      <th>census_geoid</th>\n",
       "      <th>pff_variable</th>\n",
       "      <th>geotype</th>\n",
       "      <th>e</th>\n",
       "      <th>m</th>\n",
       "    </tr>\n",
       "  </thead>\n",
       "  <tbody>\n",
       "    <tr>\n",
       "      <th>0</th>\n",
       "      <td>36005000100</td>\n",
       "      <td>mntrvtm</td>\n",
       "      <td>CT20</td>\n",
       "      <td>NaN</td>\n",
       "      <td>NaN</td>\n",
       "    </tr>\n",
       "    <tr>\n",
       "      <th>1</th>\n",
       "      <td>36005000200</td>\n",
       "      <td>mntrvtm</td>\n",
       "      <td>CT20</td>\n",
       "      <td>43.394616</td>\n",
       "      <td>12.466391</td>\n",
       "    </tr>\n",
       "    <tr>\n",
       "      <th>2</th>\n",
       "      <td>36005000400</td>\n",
       "      <td>mntrvtm</td>\n",
       "      <td>CT20</td>\n",
       "      <td>52.868440</td>\n",
       "      <td>8.908892</td>\n",
       "    </tr>\n",
       "    <tr>\n",
       "      <th>3</th>\n",
       "      <td>36005001600</td>\n",
       "      <td>mntrvtm</td>\n",
       "      <td>CT20</td>\n",
       "      <td>47.987897</td>\n",
       "      <td>8.956524</td>\n",
       "    </tr>\n",
       "    <tr>\n",
       "      <th>4</th>\n",
       "      <td>36005001901</td>\n",
       "      <td>mntrvtm</td>\n",
       "      <td>CT20</td>\n",
       "      <td>42.078775</td>\n",
       "      <td>19.419041</td>\n",
       "    </tr>\n",
       "  </tbody>\n",
       "</table>\n",
       "</div>"
      ]
     },
     "metadata": {},
     "execution_count": 6
    }
   ],
   "metadata": {}
  },
  {
   "cell_type": "code",
   "execution_count": 7,
   "source": [
    "# Calculate inputs\n",
    "inputs_df = calculate.calculate_e_m_multiprocessing(special_base_vars, geotype)\n",
    "inputs_df.loc[inputs_df.census_geoid.isin(census_geoid_list),:]"
   ],
   "outputs": [
    {
     "output_type": "execute_result",
     "data": {
      "text/plain": [
       "    census_geoid pff_variable geotype           e           m\n",
       "854  36047054300        agttm    CT20  150.489297  310.662308\n",
       "854  36047054300     wrkr16pl    CT20    4.987768   10.560063\n",
       "854  36047054300    cw_wrkdhm    CT20    0.642202    3.069786\n",
       "854  36047054300    wrkrnothm    CT20    5.629969   10.997205"
      ],
      "text/html": [
       "<div>\n",
       "<style scoped>\n",
       "    .dataframe tbody tr th:only-of-type {\n",
       "        vertical-align: middle;\n",
       "    }\n",
       "\n",
       "    .dataframe tbody tr th {\n",
       "        vertical-align: top;\n",
       "    }\n",
       "\n",
       "    .dataframe thead th {\n",
       "        text-align: right;\n",
       "    }\n",
       "</style>\n",
       "<table border=\"1\" class=\"dataframe\">\n",
       "  <thead>\n",
       "    <tr style=\"text-align: right;\">\n",
       "      <th></th>\n",
       "      <th>census_geoid</th>\n",
       "      <th>pff_variable</th>\n",
       "      <th>geotype</th>\n",
       "      <th>e</th>\n",
       "      <th>m</th>\n",
       "    </tr>\n",
       "  </thead>\n",
       "  <tbody>\n",
       "    <tr>\n",
       "      <th>854</th>\n",
       "      <td>36047054300</td>\n",
       "      <td>agttm</td>\n",
       "      <td>CT20</td>\n",
       "      <td>150.489297</td>\n",
       "      <td>310.662308</td>\n",
       "    </tr>\n",
       "    <tr>\n",
       "      <th>854</th>\n",
       "      <td>36047054300</td>\n",
       "      <td>wrkr16pl</td>\n",
       "      <td>CT20</td>\n",
       "      <td>4.987768</td>\n",
       "      <td>10.560063</td>\n",
       "    </tr>\n",
       "    <tr>\n",
       "      <th>854</th>\n",
       "      <td>36047054300</td>\n",
       "      <td>cw_wrkdhm</td>\n",
       "      <td>CT20</td>\n",
       "      <td>0.642202</td>\n",
       "      <td>3.069786</td>\n",
       "    </tr>\n",
       "    <tr>\n",
       "      <th>854</th>\n",
       "      <td>36047054300</td>\n",
       "      <td>wrkrnothm</td>\n",
       "      <td>CT20</td>\n",
       "      <td>5.629969</td>\n",
       "      <td>10.997205</td>\n",
       "    </tr>\n",
       "  </tbody>\n",
       "</table>\n",
       "</div>"
      ]
     },
     "metadata": {},
     "execution_count": 7
    }
   ],
   "metadata": {}
  },
  {
   "cell_type": "code",
   "execution_count": 9,
   "source": [
    "def mntrvtm(df: pd.DataFrame, base_variables: list) -> pd.DataFrame:\n",
    "    df = pivot(df, base_variables)\n",
    "    df[\"e\"] = df[\"agttme\"] / (df[\"wrkr16ple\"] - df[\"cw_wrkdhme\"])\n",
    "    df[\"m\"] = (\n",
    "        1\n",
    "        / df[\"wrkrnothme\"]\n",
    "        * np.sqrt(\n",
    "            df[\"agttmm\"] ** 2\n",
    "            + (df[\"agttme\"] * df[\"wrkrnothmm\"] / df[\"wrkrnothme\"]) ** 2\n",
    "        )\n",
    "    )\n",
    "    return df"
   ],
   "outputs": [],
   "metadata": {}
  },
  {
   "cell_type": "code",
   "execution_count": 14,
   "source": [
    "# Apply function to inputs\n",
    "df = mntrvtm(inputs_df, special_base_vars)\n",
    "df[\"pff_variable\"] = pff_variable\n",
    "df[\"geotype\"] = geotype\n",
    "df.loc[df.census_geoid.isin(census_geoid_list),:]"
   ],
   "outputs": [
    {
     "output_type": "execute_result",
     "data": {
      "text/plain": [
       "    census_geoid      agttme      agttmm  wrkr16ple  wrkr16plm  cw_wrkdhme  \\\n",
       "854  36047054300  150.489297  310.662308   4.987768  10.560063    0.642202   \n",
       "\n",
       "     cw_wrkdhmm  wrkrnothme  wrkrnothmm          e          m pff_variable  \\\n",
       "854    3.069786    5.629969   10.997205  34.630542  75.967139      mntrvtm   \n",
       "\n",
       "    geotype  \n",
       "854    CT20  "
      ],
      "text/html": [
       "<div>\n",
       "<style scoped>\n",
       "    .dataframe tbody tr th:only-of-type {\n",
       "        vertical-align: middle;\n",
       "    }\n",
       "\n",
       "    .dataframe tbody tr th {\n",
       "        vertical-align: top;\n",
       "    }\n",
       "\n",
       "    .dataframe thead th {\n",
       "        text-align: right;\n",
       "    }\n",
       "</style>\n",
       "<table border=\"1\" class=\"dataframe\">\n",
       "  <thead>\n",
       "    <tr style=\"text-align: right;\">\n",
       "      <th></th>\n",
       "      <th>census_geoid</th>\n",
       "      <th>agttme</th>\n",
       "      <th>agttmm</th>\n",
       "      <th>wrkr16ple</th>\n",
       "      <th>wrkr16plm</th>\n",
       "      <th>cw_wrkdhme</th>\n",
       "      <th>cw_wrkdhmm</th>\n",
       "      <th>wrkrnothme</th>\n",
       "      <th>wrkrnothmm</th>\n",
       "      <th>e</th>\n",
       "      <th>m</th>\n",
       "      <th>pff_variable</th>\n",
       "      <th>geotype</th>\n",
       "    </tr>\n",
       "  </thead>\n",
       "  <tbody>\n",
       "    <tr>\n",
       "      <th>854</th>\n",
       "      <td>36047054300</td>\n",
       "      <td>150.489297</td>\n",
       "      <td>310.662308</td>\n",
       "      <td>4.987768</td>\n",
       "      <td>10.560063</td>\n",
       "      <td>0.642202</td>\n",
       "      <td>3.069786</td>\n",
       "      <td>5.629969</td>\n",
       "      <td>10.997205</td>\n",
       "      <td>34.630542</td>\n",
       "      <td>75.967139</td>\n",
       "      <td>mntrvtm</td>\n",
       "      <td>CT20</td>\n",
       "    </tr>\n",
       "  </tbody>\n",
       "</table>\n",
       "</div>"
      ]
     },
     "metadata": {},
     "execution_count": 14
    }
   ],
   "metadata": {}
  },
  {
   "cell_type": "code",
   "execution_count": 7,
   "source": [
    "# Peform full calculation (including cleaning/rounding) to show display output\n",
    "full_calc = calculate(pff_variable, geotype)\n",
    "full_calc.loc[full_calc.census_geoid.isin(census_geoid_list),:]"
   ],
   "outputs": [
    {
     "output_type": "execute_result",
     "data": {
      "text/plain": [
       "   census_geoid labs_geoid geotype labs_geotype pff_variable    c         e  \\\n",
       "11  36005002400    2002400    CT20       CT2020     mdfaminc  3.9  112500.0   \n",
       "\n",
       "         m   p   z  \n",
       "11  7295.0 NaN NaN  "
      ],
      "text/html": [
       "<div>\n",
       "<style scoped>\n",
       "    .dataframe tbody tr th:only-of-type {\n",
       "        vertical-align: middle;\n",
       "    }\n",
       "\n",
       "    .dataframe tbody tr th {\n",
       "        vertical-align: top;\n",
       "    }\n",
       "\n",
       "    .dataframe thead th {\n",
       "        text-align: right;\n",
       "    }\n",
       "</style>\n",
       "<table border=\"1\" class=\"dataframe\">\n",
       "  <thead>\n",
       "    <tr style=\"text-align: right;\">\n",
       "      <th></th>\n",
       "      <th>census_geoid</th>\n",
       "      <th>labs_geoid</th>\n",
       "      <th>geotype</th>\n",
       "      <th>labs_geotype</th>\n",
       "      <th>pff_variable</th>\n",
       "      <th>c</th>\n",
       "      <th>e</th>\n",
       "      <th>m</th>\n",
       "      <th>p</th>\n",
       "      <th>z</th>\n",
       "    </tr>\n",
       "  </thead>\n",
       "  <tbody>\n",
       "    <tr>\n",
       "      <th>11</th>\n",
       "      <td>36005002400</td>\n",
       "      <td>2002400</td>\n",
       "      <td>CT20</td>\n",
       "      <td>CT2020</td>\n",
       "      <td>mdfaminc</td>\n",
       "      <td>3.9</td>\n",
       "      <td>112500.0</td>\n",
       "      <td>7295.0</td>\n",
       "      <td>NaN</td>\n",
       "      <td>NaN</td>\n",
       "    </tr>\n",
       "  </tbody>\n",
       "</table>\n",
       "</div>"
      ]
     },
     "metadata": {},
     "execution_count": 7
    }
   ],
   "metadata": {}
  }
 ],
 "metadata": {
  "interpreter": {
   "hash": "75371cd3c5ecd442c3beab879b92f620aa5f133f8c54bee4eee1a26c01085919"
  },
  "kernelspec": {
   "name": "python3",
   "display_name": "Python 3.9.4 64-bit ('pff-factfinder-Gy5E4KFG-py3.9': poetry)"
  },
  "language_info": {
   "codemirror_mode": {
    "name": "ipython",
    "version": 3
   },
   "file_extension": ".py",
   "mimetype": "text/x-python",
   "name": "python",
   "nbconvert_exporter": "python",
   "pygments_lexer": "ipython3",
   "version": "3.9.4"
  },
  "orig_nbformat": 4
 },
 "nbformat": 4,
 "nbformat_minor": 2
}