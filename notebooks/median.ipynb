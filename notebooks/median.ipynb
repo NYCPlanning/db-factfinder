{
 "cells": [
  {
   "cell_type": "code",
   "execution_count": 2,
   "source": [
    "#Initialize\n",
    "from factfinder.calculate import Calculate\n",
    "from factfinder.median import Median\n",
    "from dotenv import load_dotenv\n",
    "import os\n",
    "import numpy as np\n",
    "import pandas as pd\n",
    "\n",
    "import logging\n",
    "logger = logging.getLogger()\n",
    "logger.setLevel(logging.DEBUG)\n",
    "logging.debug(\"test\")\n",
    "\n",
    "# pd.options.display.float_format = \"{:,.18f}\".format\n",
    "\n",
    "try:\n",
    "    env_path = \"../.env\"\n",
    "    load_dotenv(dotenv_path=env_path)\n",
    "except:\n",
    "    print(\".env file is missing ...\")\n",
    "\n",
    "calculate = Calculate(api_key=os.environ[\"API_KEY\"], year=2010, source=\"acs\", geography='2010_to_2020')"
   ],
   "outputs": [
    {
     "output_type": "error",
     "ename": "ImportError",
     "evalue": "cannot import name 'get_median' from 'factfinder.utils' (/workspaces/db-factfinder/factfinder/utils.py)",
     "traceback": [
      "\u001b[0;31m---------------------------------------------------------------------------\u001b[0m",
      "\u001b[0;31mImportError\u001b[0m                               Traceback (most recent call last)",
      "\u001b[0;32m/tmp/ipykernel_7854/1871191781.py\u001b[0m in \u001b[0;36m<module>\u001b[0;34m\u001b[0m\n\u001b[1;32m      1\u001b[0m \u001b[0;31m#Initialize\u001b[0m\u001b[0;34m\u001b[0m\u001b[0;34m\u001b[0m\u001b[0;34m\u001b[0m\u001b[0m\n\u001b[0;32m----> 2\u001b[0;31m \u001b[0;32mfrom\u001b[0m \u001b[0mfactfinder\u001b[0m\u001b[0;34m.\u001b[0m\u001b[0mcalculate\u001b[0m \u001b[0;32mimport\u001b[0m \u001b[0mCalculate\u001b[0m\u001b[0;34m\u001b[0m\u001b[0;34m\u001b[0m\u001b[0m\n\u001b[0m\u001b[1;32m      3\u001b[0m \u001b[0;32mfrom\u001b[0m \u001b[0mfactfinder\u001b[0m\u001b[0;34m.\u001b[0m\u001b[0mmedian\u001b[0m \u001b[0;32mimport\u001b[0m \u001b[0mMedian\u001b[0m\u001b[0;34m\u001b[0m\u001b[0;34m\u001b[0m\u001b[0m\n\u001b[1;32m      4\u001b[0m \u001b[0;32mfrom\u001b[0m \u001b[0mfactfinder\u001b[0m\u001b[0;34m.\u001b[0m\u001b[0mutils\u001b[0m \u001b[0;32mimport\u001b[0m \u001b[0mget_median\u001b[0m\u001b[0;34m\u001b[0m\u001b[0;34m\u001b[0m\u001b[0m\n\u001b[1;32m      5\u001b[0m \u001b[0;32mfrom\u001b[0m \u001b[0mdotenv\u001b[0m \u001b[0;32mimport\u001b[0m \u001b[0mload_dotenv\u001b[0m\u001b[0;34m\u001b[0m\u001b[0;34m\u001b[0m\u001b[0m\n",
      "\u001b[0;32m/workspaces/db-factfinder/factfinder/calculate.py\u001b[0m in \u001b[0;36m<module>\u001b[0;34m\u001b[0m\n\u001b[1;32m     11\u001b[0m \u001b[0;32mfrom\u001b[0m \u001b[0;34m.\u001b[0m\u001b[0mmetadata\u001b[0m \u001b[0;32mimport\u001b[0m \u001b[0mMetadata\u001b[0m\u001b[0;34m,\u001b[0m \u001b[0mVariable\u001b[0m\u001b[0;34m\u001b[0m\u001b[0;34m\u001b[0m\u001b[0m\n\u001b[1;32m     12\u001b[0m \u001b[0;32mfrom\u001b[0m \u001b[0;34m.\u001b[0m\u001b[0mspecial\u001b[0m \u001b[0;32mimport\u001b[0m \u001b[0;34m*\u001b[0m\u001b[0;34m\u001b[0m\u001b[0;34m\u001b[0m\u001b[0m\n\u001b[0;32m---> 13\u001b[0;31m from .utils import (\n\u001b[0m\u001b[1;32m     14\u001b[0m     \u001b[0mget_c\u001b[0m\u001b[0;34m,\u001b[0m\u001b[0;34m\u001b[0m\u001b[0;34m\u001b[0m\u001b[0m\n\u001b[1;32m     15\u001b[0m     \u001b[0mget_median\u001b[0m\u001b[0;34m,\u001b[0m\u001b[0;34m\u001b[0m\u001b[0;34m\u001b[0m\u001b[0m\n",
      "\u001b[0;31mImportError\u001b[0m: cannot import name 'get_median' from 'factfinder.utils' (/workspaces/db-factfinder/factfinder/utils.py)"
     ]
    }
   ],
   "metadata": {}
  },
  {
   "cell_type": "code",
   "execution_count": null,
   "source": [
    "##INPUTS -- change here\n",
    "pff_variable = 'mdvl'\n",
    "geotype = 'CT20'\n",
    "census_geoid_list = ['36005005002']"
   ],
   "outputs": [],
   "metadata": {}
  },
  {
   "cell_type": "code",
   "execution_count": null,
   "source": [
    "# See all digits of ratio\n",
    "ratio = calculate.geo.ratio\n",
    "ratio.loc[ratio.geoid_ct2020.isin(census_geoid_list), :]\n"
   ],
   "outputs": [],
   "metadata": {}
  },
  {
   "cell_type": "code",
   "execution_count": null,
   "source": [
    "# Get ranges and design factor from metadata\n",
    "ranges = calculate.meta.median_ranges(pff_variable)\n",
    "design_factor = calculate.meta.median_design_factor(pff_variable)\n",
    "print(f\"\\nDesign factor: {design_factor}\")"
   ],
   "outputs": [],
   "metadata": {}
  },
  {
   "cell_type": "code",
   "execution_count": null,
   "source": [
    "# Calculate inputs in 2020 geogs\n",
    "df = calculate.calculate_e_m_multiprocessing(list(ranges.keys()), geotype)"
   ],
   "outputs": [],
   "metadata": {}
  },
  {
   "cell_type": "code",
   "execution_count": null,
   "source": [
    "# 3. create a pivot table with census_geoid as the index, and\n",
    "# pff_variable as column names. df_pivoted.e -> the estimation dataframe\n",
    "df_pivoted = df.loc[df.census_geoid.isin(census_geoid_list), [\"census_geoid\", \"pff_variable\", \"e\"]].pivot(\n",
    "    index=\"census_geoid\", columns=\"pff_variable\", values=[\"e\"]\n",
    ")\n",
    "df_pivoted = df_pivoted.round(16)\n",
    "df_pivoted"
   ],
   "outputs": [],
   "metadata": {}
  },
  {
   "cell_type": "code",
   "execution_count": null,
   "source": [
    "# Empty dataframe to store the results\n",
    "results = pd.DataFrame()\n",
    "results[\"census_geoid\"] = df_pivoted.index\n",
    "results[\"pff_variable\"] = pff_variable\n",
    "results[\"geotype\"] = geotype\n",
    "results"
   ],
   "outputs": [],
   "metadata": {}
  },
  {
   "cell_type": "code",
   "execution_count": null,
   "source": [
    "# 4. calculate median estimation using get_median\n",
    "results[\"e\"] = (\n",
    "    df_pivoted.e.loc[\n",
    "        df_pivoted.e.index == results.census_geoid, list(ranges.keys())\n",
    "    ]\n",
    "    .apply(lambda row: Median(ranges, row, design_factor).median, axis=1)\n",
    "    .to_list()\n",
    ")"
   ],
   "outputs": [],
   "metadata": {}
  },
  {
   "cell_type": "code",
   "execution_count": null,
   "source": [
    "# 5. Calculate median moe using get_median_moe\n",
    "# Note that median moe calculation needs the median estimation\n",
    "# so we seperated df_pivoted.m out as a seperate dataframe\n",
    "e = df_pivoted.e.copy()\n",
    "e[\"e\"] = results.loc[e.index == results.census_geoid, \"e\"].to_list()\n",
    "results[\"m\"] = (\n",
    "    e.loc[e.index == results.census_geoid, list(ranges.keys()) + [\"e\"]]\n",
    "    .apply(lambda row: Median(ranges, row, design_factor).median_moe, axis=1)\n",
    "    .to_list()\n",
    ")"
   ],
   "outputs": [],
   "metadata": {}
  },
  {
   "cell_type": "code",
   "execution_count": null,
   "source": [
    "results.head()"
   ],
   "outputs": [],
   "metadata": {}
  },
  {
   "cell_type": "code",
   "execution_count": null,
   "source": [
    "# Peform full calculation (including cleaning/rounding) to show display output\n",
    "full_calc = calculate(pff_variable, geotype)\n",
    "full_calc.loc[full_calc.census_geoid.isin(census_geoid_list),:]"
   ],
   "outputs": [],
   "metadata": {}
  }
 ],
 "metadata": {
  "interpreter": {
   "hash": "75371cd3c5ecd442c3beab879b92f620aa5f133f8c54bee4eee1a26c01085919"
  },
  "kernelspec": {
   "name": "python3",
   "display_name": "Python 3.9.4 64-bit ('pff-factfinder-Gy5E4KFG-py3.9': poetry)"
  },
  "language_info": {
   "codemirror_mode": {
    "name": "ipython",
    "version": 3
   },
   "file_extension": ".py",
   "mimetype": "text/x-python",
   "name": "python",
   "nbconvert_exporter": "python",
   "pygments_lexer": "ipython3",
   "version": "3.9.4"
  },
  "orig_nbformat": 4
 },
 "nbformat": 4,
 "nbformat_minor": 2
}