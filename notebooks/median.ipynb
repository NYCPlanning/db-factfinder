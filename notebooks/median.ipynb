{
 "cells": [
  {
   "cell_type": "code",
   "execution_count": 1,
   "source": [
    "#Initialize\n",
    "from factfinder.calculate import Calculate\n",
    "from factfinder.median import Median\n",
    "from factfinder.utils import get_median\n",
    "from dotenv import load_dotenv\n",
    "import os\n",
    "import numpy as np\n",
    "import pandas as pd\n",
    "\n",
    "# pd.options.display.float_format = \"{:,.18f}\".format\n",
    "\n",
    "try:\n",
    "    env_path = \"../.env\"\n",
    "    load_dotenv(dotenv_path=env_path)\n",
    "except:\n",
    "    print(\".env file is missing ...\")\n",
    "\n",
    "calculate = Calculate(api_key=os.environ[\"API_KEY\"], year=2019, source=\"acs\", geography='2010_to_2020')"
   ],
   "outputs": [],
   "metadata": {}
  },
  {
   "cell_type": "code",
   "execution_count": 2,
   "source": [
    "##INPUTS -- change here\n",
    "pff_variable = 'mdvl'\n",
    "geotype = 'CT20'\n",
    "census_geoid_list = ['36005017902']"
   ],
   "outputs": [],
   "metadata": {}
  },
  {
   "cell_type": "code",
   "execution_count": 3,
   "source": [
    "# See all digits of ratio\n",
    "ratio = calculate.geo.ratio\n",
    "ratio.loc[ratio.geoid_ct2020.isin(census_geoid_list), :]\n"
   ],
   "outputs": [
    {
     "output_type": "execute_result",
     "data": {
      "text/plain": [
       "    geoid_ct2010 geoid_ct2020  ratio\n",
       "121  36005017902  36005017902    1.0"
      ],
      "text/html": [
       "<div>\n",
       "<style scoped>\n",
       "    .dataframe tbody tr th:only-of-type {\n",
       "        vertical-align: middle;\n",
       "    }\n",
       "\n",
       "    .dataframe tbody tr th {\n",
       "        vertical-align: top;\n",
       "    }\n",
       "\n",
       "    .dataframe thead th {\n",
       "        text-align: right;\n",
       "    }\n",
       "</style>\n",
       "<table border=\"1\" class=\"dataframe\">\n",
       "  <thead>\n",
       "    <tr style=\"text-align: right;\">\n",
       "      <th></th>\n",
       "      <th>geoid_ct2010</th>\n",
       "      <th>geoid_ct2020</th>\n",
       "      <th>ratio</th>\n",
       "    </tr>\n",
       "  </thead>\n",
       "  <tbody>\n",
       "    <tr>\n",
       "      <th>121</th>\n",
       "      <td>36005017902</td>\n",
       "      <td>36005017902</td>\n",
       "      <td>1.0</td>\n",
       "    </tr>\n",
       "  </tbody>\n",
       "</table>\n",
       "</div>"
      ]
     },
     "metadata": {},
     "execution_count": 3
    }
   ],
   "metadata": {}
  },
  {
   "cell_type": "code",
   "execution_count": 4,
   "source": [
    "# Get ranges and design factor from metadata\n",
    "ranges = calculate.meta.median_ranges(pff_variable)\n",
    "design_factor = calculate.meta.median_design_factor(pff_variable)\n",
    "print(f\"\\nDesign factor: {design_factor}\")"
   ],
   "outputs": [
    {
     "output_type": "stream",
     "name": "stdout",
     "text": [
      "\n",
      "Design factor: 1.4\n"
     ]
    }
   ],
   "metadata": {}
  },
  {
   "cell_type": "code",
   "execution_count": 12,
   "source": [
    "# Calculate inputs in 2020 geogs\n",
    "df = calculate.calculate_e_m_multiprocessing(list(ranges.keys()), geotype)"
   ],
   "outputs": [],
   "metadata": {}
  },
  {
   "cell_type": "code",
   "execution_count": 6,
   "source": [
    "# 3. create a pivot table with census_geoid as the index, and\n",
    "# pff_variable as column names. df_pivoted.e -> the estimation dataframe\n",
    "df_pivoted = df.loc[df.census_geoid.isin(census_geoid_list), [\"census_geoid\", \"pff_variable\", \"e\"]].pivot(\n",
    "    index=\"census_geoid\", columns=\"pff_variable\", values=[\"e\"]\n",
    ")\n",
    "df_pivoted = df_pivoted.round(16)\n",
    "df_pivoted"
   ],
   "outputs": [
    {
     "output_type": "execute_result",
     "data": {
      "text/plain": [
       "                     e                                                    \\\n",
       "pff_variable ov100t124 ov125t149 ov150t174 ov150t199m ov175t199 ov1t149m   \n",
       "census_geoid                                                               \n",
       "36005017902        0.0       0.0       0.0        0.0       0.0      0.0   \n",
       "\n",
       "                                                     ...                    \\\n",
       "pff_variable ov200t249 ov250t299 ov2milpl ov300t399  ... ovl25t29 ovl30t34   \n",
       "census_geoid                                         ...                     \n",
       "36005017902        0.0       0.0      0.0       0.0  ...      0.0      0.0   \n",
       "\n",
       "                                                                             \\\n",
       "pff_variable ovl35t39 ovl40t49 ovl50t59 ovl60t69 ovl70t79 ovl80t89 ovl90t99   \n",
       "census_geoid                                                                  \n",
       "36005017902       0.0      0.0      0.0      0.0      0.0      0.0      0.0   \n",
       "\n",
       "                     \n",
       "pff_variable ovlu10  \n",
       "census_geoid         \n",
       "36005017902     0.0  \n",
       "\n",
       "[1 rows x 26 columns]"
      ],
      "text/html": [
       "<div>\n",
       "<style scoped>\n",
       "    .dataframe tbody tr th:only-of-type {\n",
       "        vertical-align: middle;\n",
       "    }\n",
       "\n",
       "    .dataframe tbody tr th {\n",
       "        vertical-align: top;\n",
       "    }\n",
       "\n",
       "    .dataframe thead tr th {\n",
       "        text-align: left;\n",
       "    }\n",
       "\n",
       "    .dataframe thead tr:last-of-type th {\n",
       "        text-align: right;\n",
       "    }\n",
       "</style>\n",
       "<table border=\"1\" class=\"dataframe\">\n",
       "  <thead>\n",
       "    <tr>\n",
       "      <th></th>\n",
       "      <th colspan=\"21\" halign=\"left\">e</th>\n",
       "    </tr>\n",
       "    <tr>\n",
       "      <th>pff_variable</th>\n",
       "      <th>ov100t124</th>\n",
       "      <th>ov125t149</th>\n",
       "      <th>ov150t174</th>\n",
       "      <th>ov150t199m</th>\n",
       "      <th>ov175t199</th>\n",
       "      <th>ov1t149m</th>\n",
       "      <th>ov200t249</th>\n",
       "      <th>ov250t299</th>\n",
       "      <th>ov2milpl</th>\n",
       "      <th>ov300t399</th>\n",
       "      <th>...</th>\n",
       "      <th>ovl25t29</th>\n",
       "      <th>ovl30t34</th>\n",
       "      <th>ovl35t39</th>\n",
       "      <th>ovl40t49</th>\n",
       "      <th>ovl50t59</th>\n",
       "      <th>ovl60t69</th>\n",
       "      <th>ovl70t79</th>\n",
       "      <th>ovl80t89</th>\n",
       "      <th>ovl90t99</th>\n",
       "      <th>ovlu10</th>\n",
       "    </tr>\n",
       "    <tr>\n",
       "      <th>census_geoid</th>\n",
       "      <th></th>\n",
       "      <th></th>\n",
       "      <th></th>\n",
       "      <th></th>\n",
       "      <th></th>\n",
       "      <th></th>\n",
       "      <th></th>\n",
       "      <th></th>\n",
       "      <th></th>\n",
       "      <th></th>\n",
       "      <th></th>\n",
       "      <th></th>\n",
       "      <th></th>\n",
       "      <th></th>\n",
       "      <th></th>\n",
       "      <th></th>\n",
       "      <th></th>\n",
       "      <th></th>\n",
       "      <th></th>\n",
       "      <th></th>\n",
       "      <th></th>\n",
       "    </tr>\n",
       "  </thead>\n",
       "  <tbody>\n",
       "    <tr>\n",
       "      <th>36005017902</th>\n",
       "      <td>0.0</td>\n",
       "      <td>0.0</td>\n",
       "      <td>0.0</td>\n",
       "      <td>0.0</td>\n",
       "      <td>0.0</td>\n",
       "      <td>0.0</td>\n",
       "      <td>0.0</td>\n",
       "      <td>0.0</td>\n",
       "      <td>0.0</td>\n",
       "      <td>0.0</td>\n",
       "      <td>...</td>\n",
       "      <td>0.0</td>\n",
       "      <td>0.0</td>\n",
       "      <td>0.0</td>\n",
       "      <td>0.0</td>\n",
       "      <td>0.0</td>\n",
       "      <td>0.0</td>\n",
       "      <td>0.0</td>\n",
       "      <td>0.0</td>\n",
       "      <td>0.0</td>\n",
       "      <td>0.0</td>\n",
       "    </tr>\n",
       "  </tbody>\n",
       "</table>\n",
       "<p>1 rows × 26 columns</p>\n",
       "</div>"
      ]
     },
     "metadata": {},
     "execution_count": 6
    }
   ],
   "metadata": {}
  },
  {
   "cell_type": "code",
   "execution_count": 7,
   "source": [
    "# Empty dataframe to store the results\n",
    "results = pd.DataFrame()\n",
    "results[\"census_geoid\"] = df_pivoted.index\n",
    "results[\"pff_variable\"] = pff_variable\n",
    "results[\"geotype\"] = geotype\n",
    "results"
   ],
   "outputs": [
    {
     "output_type": "execute_result",
     "data": {
      "text/plain": [
       "  census_geoid pff_variable geotype\n",
       "0  36005017902         mdvl    CT20"
      ],
      "text/html": [
       "<div>\n",
       "<style scoped>\n",
       "    .dataframe tbody tr th:only-of-type {\n",
       "        vertical-align: middle;\n",
       "    }\n",
       "\n",
       "    .dataframe tbody tr th {\n",
       "        vertical-align: top;\n",
       "    }\n",
       "\n",
       "    .dataframe thead th {\n",
       "        text-align: right;\n",
       "    }\n",
       "</style>\n",
       "<table border=\"1\" class=\"dataframe\">\n",
       "  <thead>\n",
       "    <tr style=\"text-align: right;\">\n",
       "      <th></th>\n",
       "      <th>census_geoid</th>\n",
       "      <th>pff_variable</th>\n",
       "      <th>geotype</th>\n",
       "    </tr>\n",
       "  </thead>\n",
       "  <tbody>\n",
       "    <tr>\n",
       "      <th>0</th>\n",
       "      <td>36005017902</td>\n",
       "      <td>mdvl</td>\n",
       "      <td>CT20</td>\n",
       "    </tr>\n",
       "  </tbody>\n",
       "</table>\n",
       "</div>"
      ]
     },
     "metadata": {},
     "execution_count": 7
    }
   ],
   "metadata": {}
  },
  {
   "cell_type": "code",
   "execution_count": 8,
   "source": [
    "# 4. calculate median estimation using get_median\n",
    "results[\"e\"] = (\n",
    "    df_pivoted.e.loc[\n",
    "        df_pivoted.e.index == results.census_geoid, list(ranges.keys())\n",
    "    ]\n",
    "    .apply(lambda row: Median(ranges, row, design_factor).median, axis=1)\n",
    "    .to_list()\n",
    ")"
   ],
   "outputs": [
    {
     "output_type": "stream",
     "name": "stderr",
     "text": [
      "DEBUG:root:Cumulative frequency is 0\n",
      "DEBUG:root:\n",
      "MEDIAN: 0.0\n",
      "\n"
     ]
    }
   ],
   "metadata": {}
  },
  {
   "cell_type": "code",
   "execution_count": 9,
   "source": [
    "# 5. Calculate median moe using get_median_moe\n",
    "# Note that median moe calculation needs the median estimation\n",
    "# so we seperated df_pivoted.m out as a seperate dataframe\n",
    "e = df_pivoted.e.copy()\n",
    "e[\"e\"] = results.loc[e.index == results.census_geoid, \"e\"].to_list()\n",
    "results[\"m\"] = (\n",
    "    e.loc[e.index == results.census_geoid, list(ranges.keys()) + [\"e\"]]\n",
    "    .apply(lambda row: Median(ranges, row, design_factor).median_moe, axis=1)\n",
    "    .to_list()\n",
    ")"
   ],
   "outputs": [
    {
     "output_type": "stream",
     "name": "stderr",
     "text": [
      "DEBUG:root:Cumulative frequency is 0\n",
      "DEBUG:root:\n",
      "MEDIAN: 0.0\n",
      "\n",
      "DEBUG:root:Cumulative frequency is 0\n",
      "DEBUG:root:\n",
      "MEDIAN: 0.0\n",
      "\n",
      "DEBUG:root:\n",
      "=================================\n",
      "MEDIAN STATS:\n",
      "-----\n",
      "Median = 0.0\n",
      "Median_MOE = nan\n",
      "B = 0.0\n",
      "se_50 = nan\n",
      "p_lower = nan\n",
      "p_upper = nan\n",
      "lower_bin = nan\n",
      "upper_bin = nan\n",
      "first_non_zero_bin = 0\n",
      "\n",
      "DISTRIBUTION:\n",
      "-----\n",
      "- [0, 9999]: nan\n",
      "- [10000, 14999]: nan\n",
      "- [15000, 19999]: nan\n",
      "- [20000, 24999]: nan\n",
      "- [25000, 29999]: nan\n",
      "- [30000, 34999]: nan\n",
      "- [35000, 39999]: nan\n",
      "- [40000, 49999]: nan\n",
      "- [50000, 59999]: nan\n",
      "- [60000, 69999]: nan\n",
      "- [70000, 79999]: nan\n",
      "- [80000, 89999]: nan\n",
      "- [90000, 99999]: nan\n",
      "- [100000, 124999]: nan\n",
      "- [125000, 149999]: nan\n",
      "- [150000, 174999]: nan\n",
      "- [175000, 199999]: nan\n",
      "- [200000, 249999]: nan\n",
      "- [250000, 299999]: nan\n",
      "- [300000, 399999]: nan\n",
      "- [400000, 499999]: nan\n",
      "- [500000, 749999]: nan\n",
      "- [750000, 999999]: nan\n",
      "- [1000000, 1499999]: nan\n",
      "- [1500000, 1999999]: nan\n",
      "- [2000000, 5000000]: nan\n",
      "=================================\n"
     ]
    }
   ],
   "metadata": {}
  },
  {
   "cell_type": "code",
   "execution_count": 10,
   "source": [
    "results.head()"
   ],
   "outputs": [
    {
     "output_type": "execute_result",
     "data": {
      "text/plain": [
       "  census_geoid pff_variable geotype    e   m\n",
       "0  36005017902         mdvl    CT20  0.0 NaN"
      ],
      "text/html": [
       "<div>\n",
       "<style scoped>\n",
       "    .dataframe tbody tr th:only-of-type {\n",
       "        vertical-align: middle;\n",
       "    }\n",
       "\n",
       "    .dataframe tbody tr th {\n",
       "        vertical-align: top;\n",
       "    }\n",
       "\n",
       "    .dataframe thead th {\n",
       "        text-align: right;\n",
       "    }\n",
       "</style>\n",
       "<table border=\"1\" class=\"dataframe\">\n",
       "  <thead>\n",
       "    <tr style=\"text-align: right;\">\n",
       "      <th></th>\n",
       "      <th>census_geoid</th>\n",
       "      <th>pff_variable</th>\n",
       "      <th>geotype</th>\n",
       "      <th>e</th>\n",
       "      <th>m</th>\n",
       "    </tr>\n",
       "  </thead>\n",
       "  <tbody>\n",
       "    <tr>\n",
       "      <th>0</th>\n",
       "      <td>36005017902</td>\n",
       "      <td>mdvl</td>\n",
       "      <td>CT20</td>\n",
       "      <td>0.0</td>\n",
       "      <td>NaN</td>\n",
       "    </tr>\n",
       "  </tbody>\n",
       "</table>\n",
       "</div>"
      ]
     },
     "metadata": {},
     "execution_count": 10
    }
   ],
   "metadata": {}
  },
  {
   "cell_type": "code",
   "execution_count": 11,
   "source": [
    "# Peform full calculation (including cleaning/rounding) to show display output\n",
    "import logging\n",
    "logging.basicConfig(level=\"ERROR\")\n",
    "full_calc = calculate(pff_variable, geotype)\n",
    "full_calc.loc[full_calc.census_geoid.isin(census_geoid_list),:]"
   ],
   "outputs": [
    {
     "output_type": "execute_result",
     "data": {
      "text/plain": [
       "    census_geoid labs_geoid geotype labs_geotype pff_variable   c    e    m  \\\n",
       "116  36005017902    2017902    CT20       CT2020         mdvl NaN  0.0  0.0   \n",
       "\n",
       "      p   z  \n",
       "116 NaN NaN  "
      ],
      "text/html": [
       "<div>\n",
       "<style scoped>\n",
       "    .dataframe tbody tr th:only-of-type {\n",
       "        vertical-align: middle;\n",
       "    }\n",
       "\n",
       "    .dataframe tbody tr th {\n",
       "        vertical-align: top;\n",
       "    }\n",
       "\n",
       "    .dataframe thead th {\n",
       "        text-align: right;\n",
       "    }\n",
       "</style>\n",
       "<table border=\"1\" class=\"dataframe\">\n",
       "  <thead>\n",
       "    <tr style=\"text-align: right;\">\n",
       "      <th></th>\n",
       "      <th>census_geoid</th>\n",
       "      <th>labs_geoid</th>\n",
       "      <th>geotype</th>\n",
       "      <th>labs_geotype</th>\n",
       "      <th>pff_variable</th>\n",
       "      <th>c</th>\n",
       "      <th>e</th>\n",
       "      <th>m</th>\n",
       "      <th>p</th>\n",
       "      <th>z</th>\n",
       "    </tr>\n",
       "  </thead>\n",
       "  <tbody>\n",
       "    <tr>\n",
       "      <th>116</th>\n",
       "      <td>36005017902</td>\n",
       "      <td>2017902</td>\n",
       "      <td>CT20</td>\n",
       "      <td>CT2020</td>\n",
       "      <td>mdvl</td>\n",
       "      <td>NaN</td>\n",
       "      <td>0.0</td>\n",
       "      <td>0.0</td>\n",
       "      <td>NaN</td>\n",
       "      <td>NaN</td>\n",
       "    </tr>\n",
       "  </tbody>\n",
       "</table>\n",
       "</div>"
      ]
     },
     "metadata": {},
     "execution_count": 11
    }
   ],
   "metadata": {}
  }
 ],
 "metadata": {
  "interpreter": {
   "hash": "75371cd3c5ecd442c3beab879b92f620aa5f133f8c54bee4eee1a26c01085919"
  },
  "kernelspec": {
   "name": "python3",
   "display_name": "Python 3.9.2 64-bit ('pff-factfinder-Gy5E4KFG-py3.9': poetry)"
  },
  "language_info": {
   "codemirror_mode": {
    "name": "ipython",
    "version": 3
   },
   "file_extension": ".py",
   "mimetype": "text/x-python",
   "name": "python",
   "nbconvert_exporter": "python",
   "pygments_lexer": "ipython3",
   "version": "3.9.2"
  },
  "orig_nbformat": 4
 },
 "nbformat": 4,
 "nbformat_minor": 2
}